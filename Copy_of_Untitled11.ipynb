{
  "nbformat": 4,
  "nbformat_minor": 0,
  "metadata": {
    "colab": {
      "provenance": [],
      "authorship_tag": "ABX9TyMdhUe/nl3GEnGNI/4IbRLC",
      "include_colab_link": true
    },
    "kernelspec": {
      "name": "python3",
      "display_name": "Python 3"
    },
    "language_info": {
      "name": "python"
    }
  },
  "cells": [
    {
      "cell_type": "markdown",
      "metadata": {
        "id": "view-in-github",
        "colab_type": "text"
      },
      "source": [
        "<a href=\"https://colab.research.google.com/github/hr-sundar/sales-data-analysis/blob/main/Copy_of_Untitled11.ipynb\" target=\"_parent\"><img src=\"https://colab.research.google.com/assets/colab-badge.svg\" alt=\"Open In Colab\"/></a>"
      ]
    },
    {
      "cell_type": "code",
      "execution_count": null,
      "metadata": {
        "colab": {
          "base_uri": "https://localhost:8080/"
        },
        "id": "Gosv3J0P62tu",
        "outputId": "4e6177d0-b0f3-432b-a420-6bb84601ce1a"
      },
      "outputs": [
        {
          "output_type": "stream",
          "name": "stdout",
          "text": [
            "Total sales: 50\n",
            "Top-selling product: Product A\n"
          ]
        }
      ],
      "source": [
        "def analyze_sales_data(sales_data):\n",
        "    \"\"\"\n",
        "    Analyzes sales data to calculate total sales and identify the top-selling product.\n",
        "\n",
        "    Args:\n",
        "        sales_data (list of dicts): A list of dictionaries, where each dictionary represents a sale\n",
        "                                   and contains 'product_name' and 'price' keys.\n",
        "\n",
        "    Returns:\n",
        "        tuple: A tuple containing the total sales and the name of the top-selling product.\n",
        "    \"\"\"\n",
        "\n",
        "    total_sales = 0  # Initialize total sales\n",
        "    product_sales = {}  # Dictionary to store sales for each product\n",
        "\n",
        "    # Calculate total sales and product-wise sales\n",
        "    for sale in sales_data:\n",
        "        total_sales += sale['price']\n",
        "        product_name = sale['product_name']\n",
        "        product_sales[product_name] = product_sales.get(product_name, 0) + sale['price']\n",
        "\n",
        "    # Find the top-selling product\n",
        "    top_selling_product = max(product_sales, key=product_sales.get)\n",
        "\n",
        "    return total_sales, top_selling_product\n",
        "\n",
        "\n",
        "# Sample sales data\n",
        "sales_data = [\n",
        "    {'product_name': 'Product A', 'price': 10},\n",
        "    {'product_name': 'Product B', 'price': 20},\n",
        "    {'product_name': 'Product A', 'price': 15},\n",
        "    {'product_name': 'Product C', 'price': 5},\n",
        "]\n",
        "\n",
        "# Analyze the sales data\n",
        "total_sales, top_selling_product = analyze_sales_data(sales_data)\n",
        "\n",
        "# Print the results\n",
        "print(f\"Total sales: {total_sales}\")\n",
        "print(f\"Top-selling product: {top_selling_product}\")"
      ]
    }
  ]
}